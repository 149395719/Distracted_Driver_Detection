{
 "cells": [
  {
   "cell_type": "markdown",
   "metadata": {},
   "source": [
    "建立提交文件"
   ]
  },
  {
   "cell_type": "code",
   "execution_count": 1,
   "metadata": {},
   "outputs": [],
   "source": [
    "import pandas as pd\n",
    "import datetime\n",
    "def create_submission(model,predictions,test_id):\n",
    "    result1 = pd.DataFrame(predictions, columns=['c0', 'c1', 'c2', 'c3',\n",
    "                                                 'c4', 'c5', 'c6', 'c7',\n",
    "                                                 'c8', 'c9'])\n",
    "    result1.loc[:, 'img'] = pd.Series(test_id, index=result1.index)\n",
    "    now = datetime.datetime.now()\n",
    "    if not os.path.isdir('subm'):\n",
    "        os.mkdir('subm')\n",
    "    suffix = '_' + str(now.strftime(\"%Y-%m-%d-%H-%M\"))\n",
    "    sub_file = os.path.join('subm', model + '_submission_' + suffix + '.csv')\n",
    "    result1.to_csv(sub_file, index=False)"
   ]
  },
  {
   "cell_type": "markdown",
   "metadata": {},
   "source": [
    "获取test_id"
   ]
  },
  {
   "cell_type": "code",
   "execution_count": 2,
   "metadata": {},
   "outputs": [
    {
     "name": "stdout",
     "output_type": "stream",
     "text": [
      "Read test images\n",
      "Read 15945 images from 79726\n",
      "Read 31890 images from 79726\n",
      "Read 47835 images from 79726\n",
      "Read 63780 images from 79726\n",
      "Read 79725 images from 79726\n"
     ]
    }
   ],
   "source": [
    "import math\n",
    "import os\n",
    "import glob\n",
    "def load_test(test_images_path='test/test'):\n",
    "    print('Read test images')\n",
    "    path = os.path.join(test_images_path, '*.jpg')\n",
    "    files = glob.glob(path)\n",
    "    X_test_id = []\n",
    "    total = 0\n",
    "    thr = math.floor(len(files)/5)\n",
    "    for fl in files:\n",
    "        flbase = os.path.basename(fl)\n",
    "        X_test_id.append(flbase)\n",
    "        total += 1\n",
    "        if total % thr == 0:\n",
    "            print('Read {} images from {}'.format(total, len(files)))\n",
    "    return X_test_id\n",
    "test_id = load_test()"
   ]
  },
  {
   "cell_type": "markdown",
   "metadata": {},
   "source": [
    "获取测试集"
   ]
  },
  {
   "cell_type": "code",
   "execution_count": 3,
   "metadata": {},
   "outputs": [
    {
     "name": "stdout",
     "output_type": "stream",
     "text": [
      "load test dataset\n"
     ]
    },
    {
     "name": "stderr",
     "output_type": "stream",
     "text": [
      "C:\\Users\\Q\\Anaconda2\\envs\\tensorflow-gpu\\lib\\site-packages\\h5py\\__init__.py:34: FutureWarning: Conversion of the second argument of issubdtype from `float` to `np.floating` is deprecated. In future, it will be treated as `np.float64 == np.dtype(float).type`.\n",
      "  from ._conv import register_converters as _register_converters\n",
      "Using TensorFlow backend.\n"
     ]
    },
    {
     "name": "stdout",
     "output_type": "stream",
     "text": [
      "Found 79726 images belonging to 1 classes.\n"
     ]
    }
   ],
   "source": [
    "print('load test dataset')\n",
    "test_folder = 'test'\n",
    "from keras.applications import vgg16\n",
    "from keras.preprocessing.image import ImageDataGenerator\n",
    "test_datagen = ImageDataGenerator(preprocessing_function=vgg16.preprocess_input)\n",
    "test_generator = test_datagen.flow_from_directory(\n",
    "        test_folder,\n",
    "        target_size=(224, 224),\n",
    "        batch_size=32,\n",
    "        class_mode='categorical',\n",
    "        shuffle=False)"
   ]
  },
  {
   "cell_type": "markdown",
   "metadata": {},
   "source": [
    "导入模型"
   ]
  },
  {
   "cell_type": "code",
   "execution_count": 4,
   "metadata": {},
   "outputs": [],
   "source": [
    "from keras.models import load_model\n",
    "vgg_model_1=load_model(\"vgg_best_model_lr-4_decay-60005_0.4008.hdf5\")\n",
    "vgg_model_2=load_model(\"vgg_best_model_lr-4_decay-60007_0.3599.hdf5\")\n",
    "vgg_model_3=load_model(\"vgg_best_model_lr-4_decay-60008_0.3795.hdf5\")\n",
    "vgg_model_4=load_model(\"vgg_best_model_lr-4_decay-60010_0.4293.hdf5\")\n",
    "vgg_model_5=load_model(\"vgg_best_model_lr-4_decay-60019_0.2908.hdf5\")"
   ]
  },
  {
   "cell_type": "markdown",
   "metadata": {},
   "source": [
    "进行预测"
   ]
  },
  {
   "cell_type": "code",
   "execution_count": 5,
   "metadata": {
    "scrolled": true
   },
   "outputs": [
    {
     "name": "stdout",
     "output_type": "stream",
     "text": [
      "predictions_1\n",
      "2492/2492 [==============================] - 419s 168ms/step\n",
      "predictions_2\n",
      "2492/2492 [==============================] - 418s 168ms/step\n",
      "predictions_3\n",
      "2492/2492 [==============================] - 418s 168ms/step\n",
      "predictions_4\n",
      "2492/2492 [==============================] - 417s 167ms/step\n",
      "predictions_5\n",
      "2492/2492 [==============================] - 419s 168ms/step\n"
     ]
    }
   ],
   "source": [
    "print(\"predictions_1\")\n",
    "predictions_1 = vgg_model_1.predict_generator(test_generator,verbose=1, steps=2492)\n",
    "\n",
    "print(\"predictions_2\")\n",
    "predictions_2 = vgg_model_2.predict_generator(test_generator,verbose=1, steps=2492)\n",
    "\n",
    "print(\"predictions_3\")\n",
    "predictions_3 = vgg_model_3.predict_generator(test_generator,verbose=1, steps=2492)\n",
    "\n",
    "print(\"predictions_4\")\n",
    "predictions_4 = vgg_model_4.predict_generator(test_generator,verbose=1, steps=2492)\n",
    "\n",
    "print(\"predictions_5\")\n",
    "predictions_5 = vgg_model_5.predict_generator(test_generator,verbose=1, steps=2492)"
   ]
  },
  {
   "cell_type": "markdown",
   "metadata": {},
   "source": [
    "生成提交文件"
   ]
  },
  {
   "cell_type": "code",
   "execution_count": 6,
   "metadata": {},
   "outputs": [
    {
     "name": "stdout",
     "output_type": "stream",
     "text": [
      "vgg_0.4008\n",
      "vgg_0.3599\n",
      "vgg_0.3795\n",
      "vgg_0.4293\n",
      "vgg_0.2908\n"
     ]
    }
   ],
   "source": [
    "vgg_1='vgg_0.4008'\n",
    "vgg_2='vgg_0.3599'\n",
    "vgg_3='vgg_0.3795'\n",
    "vgg_4='vgg_0.4293'\n",
    "vgg_5='vgg_0.2908'\n",
    "\n",
    "for i,j in [[vgg_1,predictions_1],[vgg_2,predictions_2],[vgg_3,predictions_3],[vgg_4,predictions_4],[vgg_5,predictions_5]]:\n",
    "    print(i) \n",
    "    create_submission(i,j, test_id)"
   ]
  },
  {
   "cell_type": "markdown",
   "metadata": {},
   "source": [
    "模型融合"
   ]
  },
  {
   "cell_type": "code",
   "execution_count": 7,
   "metadata": {},
   "outputs": [],
   "source": [
    "predictions=(predictions_2+predictions_3+predictions_4)/3\n",
    "create_submission(\"kaggletop3\",predictions, test_id)"
   ]
  },
  {
   "cell_type": "markdown",
   "metadata": {},
   "source": [
    "对t4（P21 P66 P81)模型导入、预测、融合"
   ]
  },
  {
   "cell_type": "code",
   "execution_count": 4,
   "metadata": {},
   "outputs": [
    {
     "name": "stdout",
     "output_type": "stream",
     "text": [
      "predictions_1\n",
      "2492/2492 [==============================] - 420s 169ms/step\n",
      "predictions_2\n",
      "2492/2492 [==============================] - 418s 168ms/step\n",
      "predictions_3\n",
      "2492/2492 [==============================] - 418s 168ms/step\n",
      "predictions_4\n",
      "2492/2492 [==============================] - 419s 168ms/step\n",
      "predictions_5\n",
      "2492/2492 [==============================] - 418s 168ms/step\n",
      "predictions_6\n",
      "2492/2492 [==============================] - 418s 168ms/step\n",
      "predictions_7\n",
      "2492/2492 [==============================] - 418s 168ms/step\n",
      "predictions_8\n",
      "2492/2492 [==============================] - 418s 168ms/step\n",
      "predictions_9\n",
      "2492/2492 [==============================] - 418s 168ms/step\n"
     ]
    }
   ],
   "source": [
    "from keras.models import load_model\n",
    "vgg_model_1=load_model(\"vgg_best_model_lr-4_decay-60010_0.4412.hdf5\")\n",
    "vgg_model_2=load_model(\"vgg_best_model_lr-4_decay-60009_0.3290.hdf5\")\n",
    "vgg_model_3=load_model(\"vgg_best_model_lr-4_decay-60008_0.3494.hdf5\")\n",
    "vgg_model_4=load_model(\"vgg_best_model_lr-4_decay-60014_0.3114.hdf5\")\n",
    "vgg_model_5=load_model(\"vgg_best_model_lr-4_decay-60011_0.3238.hdf5\")\n",
    "vgg_model_6=load_model(\"vgg_best_model_lr-4_decay-60006_0.3933.hdf5\")\n",
    "vgg_model_7=load_model(\"vgg_best_model_lr-4_decay-60006_0.4415.hdf5\")\n",
    "vgg_model_8=load_model(\"vgg_best_model_lr-4_decay-60008_0.4917.hdf5\")\n",
    "vgg_model_9=load_model(\"vgg_best_model_lr-4_decay-60012_0.3473.hdf5\")\n",
    "\n",
    "print(\"predictions_1\")\n",
    "predictions_4_1 = vgg_model_1.predict_generator(test_generator,verbose=1, steps=2492)\n",
    "\n",
    "print(\"predictions_2\")\n",
    "predictions_4_2 = vgg_model_2.predict_generator(test_generator,verbose=1, steps=2492)\n",
    "\n",
    "print(\"predictions_3\")\n",
    "predictions_4_3 = vgg_model_3.predict_generator(test_generator,verbose=1, steps=2492)\n",
    "\n",
    "print(\"predictions_4\")\n",
    "predictions_4_4 = vgg_model_4.predict_generator(test_generator,verbose=1, steps=2492)\n",
    "\n",
    "print(\"predictions_5\")\n",
    "predictions_4_5 = vgg_model_5.predict_generator(test_generator,verbose=1, steps=2492)\n",
    "\n",
    "print(\"predictions_6\")\n",
    "predictions_4_6 = vgg_model_6.predict_generator(test_generator,verbose=1, steps=2492)\n",
    "\n",
    "print(\"predictions_7\")\n",
    "predictions_4_7 = vgg_model_7.predict_generator(test_generator,verbose=1, steps=2492)\n",
    "\n",
    "print(\"predictions_8\")\n",
    "predictions_4_8 = vgg_model_8.predict_generator(test_generator,verbose=1, steps=2492)\n",
    "\n",
    "print(\"predictions_9\")\n",
    "predictions_4_9 = vgg_model_9.predict_generator(test_generator,verbose=1, steps=2492)\n",
    "\n",
    "predictions=(predictions_4_1+predictions_4_2+predictions_4_3+predictions_4_4+predictions_4_5+\n",
    "             predictions_4_6+predictions_4_7+predictions_4_8+predictions_4_9)/9\n",
    "create_submission(\"t4\",predictions, test_id)"
   ]
  },
  {
   "cell_type": "markdown",
   "metadata": {},
   "source": [
    "对t5（P39 P14 P64)模型导入、预测、融合"
   ]
  },
  {
   "cell_type": "code",
   "execution_count": 5,
   "metadata": {},
   "outputs": [
    {
     "name": "stdout",
     "output_type": "stream",
     "text": [
      "predictions_1\n",
      "2492/2492 [==============================] - 418s 168ms/step\n",
      "predictions_2\n",
      "2492/2492 [==============================] - 418s 168ms/step\n",
      "predictions_3\n",
      "2492/2492 [==============================] - 419s 168ms/step\n",
      "predictions_4\n",
      "2492/2492 [==============================] - 418s 168ms/step\n",
      "predictions_5\n",
      "2492/2492 [==============================] - 418s 168ms/step\n",
      "predictions_6\n",
      "2492/2492 [==============================] - 418s 168ms/step\n",
      "predictions_7\n",
      "2492/2492 [==============================] - 418s 168ms/step\n",
      "predictions_8\n",
      "2492/2492 [==============================] - 419s 168ms/step\n",
      "predictions_9\n",
      "2492/2492 [==============================] - 419s 168ms/step\n"
     ]
    }
   ],
   "source": [
    "vgg_model_1=load_model(\"vgg_best_model_lr-4_decay-60007_0.3507.hdf5\")\n",
    "vgg_model_2=load_model(\"vgg_best_model_lr-4_decay-60016_0.2917.hdf5\")\n",
    "vgg_model_3=load_model(\"vgg_best_model_lr-4_decay-60005_0.4688.hdf5\")\n",
    "vgg_model_4=load_model(\"vgg_best_model_lr-4_decay-60007_0.3071.hdf5\")\n",
    "vgg_model_5=load_model(\"vgg_best_model_lr-4_decay-60010_0.4003.hdf5\")\n",
    "vgg_model_6=load_model(\"vgg_best_model_lr-4_decay-60014_0.2909.hdf5\")\n",
    "vgg_model_7=load_model(\"vgg_best_model_lr-4_decay-60009_0.2520.hdf5\")\n",
    "vgg_model_8=load_model(\"vgg_best_model_lr-4_decay-60009_0.3315.hdf5\")\n",
    "vgg_model_9=load_model(\"vgg_best_model_lr-4_decay-60007_0.4142.hdf5\")\n",
    "\n",
    "print(\"predictions_1\")\n",
    "predictions_5_1 = vgg_model_1.predict_generator(test_generator,verbose=1, steps=2492)\n",
    "\n",
    "print(\"predictions_2\")\n",
    "predictions_5_2 = vgg_model_2.predict_generator(test_generator,verbose=1, steps=2492)\n",
    "\n",
    "print(\"predictions_3\")\n",
    "predictions_5_3 = vgg_model_3.predict_generator(test_generator,verbose=1, steps=2492)\n",
    "\n",
    "print(\"predictions_4\")\n",
    "predictions_5_4 = vgg_model_4.predict_generator(test_generator,verbose=1, steps=2492)\n",
    "\n",
    "print(\"predictions_5\")\n",
    "predictions_5_5 = vgg_model_5.predict_generator(test_generator,verbose=1, steps=2492)\n",
    "\n",
    "print(\"predictions_6\")\n",
    "predictions_5_6 = vgg_model_6.predict_generator(test_generator,verbose=1, steps=2492)\n",
    "\n",
    "print(\"predictions_7\")\n",
    "predictions_5_7 = vgg_model_7.predict_generator(test_generator,verbose=1, steps=2492)\n",
    "\n",
    "print(\"predictions_8\")\n",
    "predictions_5_8 = vgg_model_8.predict_generator(test_generator,verbose=1, steps=2492)\n",
    "\n",
    "print(\"predictions_9\")\n",
    "predictions_5_9 = vgg_model_9.predict_generator(test_generator,verbose=1, steps=2492)\n",
    "\n",
    "predictions=(predictions_5_1+predictions_5_2+predictions_5_3+predictions_5_4+predictions_5_5+\n",
    "             predictions_5_6+predictions_5_7+predictions_5_8+predictions_5_9)/9\n",
    "create_submission(\"t5\",predictions, test_id)"
   ]
  },
  {
   "cell_type": "markdown",
   "metadata": {},
   "source": [
    "对t4(0.3114 0.3238 0.3290) t5( val_loss各3个进行融合"
   ]
  },
  {
   "cell_type": "code",
   "execution_count": 6,
   "metadata": {},
   "outputs": [],
   "source": [
    "predictions=(predictions_4_2+predictions_4_4+predictions_4_5+\n",
    "             predictions_5_2+predictions_5_6+predictions_5_7)/6\n",
    "create_submission(\"t4_t5\",predictions, test_id)\n"
   ]
  },
  {
   "cell_type": "code",
   "execution_count": null,
   "metadata": {},
   "outputs": [],
   "source": []
  }
 ],
 "metadata": {
  "kernelspec": {
   "display_name": "Python 3",
   "language": "python",
   "name": "python3"
  },
  "language_info": {
   "codemirror_mode": {
    "name": "ipython",
    "version": 3
   },
   "file_extension": ".py",
   "mimetype": "text/x-python",
   "name": "python",
   "nbconvert_exporter": "python",
   "pygments_lexer": "ipython3",
   "version": "3.6.3"
  }
 },
 "nbformat": 4,
 "nbformat_minor": 2
}
